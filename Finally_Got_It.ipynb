{
 "cells": [
  {
   "cell_type": "code",
   "execution_count": 1,
   "metadata": {
    "collapsed": true
   },
   "outputs": [],
   "source": [
    "#Import library\n",
    "import pandas as pd\n",
    "import numpy\n",
    "from scipy.io import wavfile as wav\n",
    "\n",
    "#read the wav file\n",
    "rate, data = wav.read(\"16 The End.wav\")\n",
    "\n",
    "#converting the previous step to a dataframe and index\n",
    "dtype = [('Col1','float32'), ('Col2','float32')]\n",
    "values = data\n",
    "index = ['Row'+str(i) for i in range(1, len(values)+1)]\n",
    "\n",
    "#select random sample of the output to reduce file size\n",
    "mask = numpy.random.choice([False, True], len(data), p=[0.98, 0.02])\n",
    "\n",
    "#create the csv\n",
    "a = data[mask]\n",
    "df = pd.DataFrame(a)\n",
    "df.to_csv(\"theend.csv\")"
   ]
  },
  {
   "cell_type": "code",
   "execution_count": null,
   "metadata": {
    "collapsed": true
   },
   "outputs": [],
   "source": []
  }
 ],
 "metadata": {
  "kernelspec": {
   "display_name": "Python 3",
   "language": "python",
   "name": "python3"
  },
  "language_info": {
   "codemirror_mode": {
    "name": "ipython",
    "version": 3
   },
   "file_extension": ".py",
   "mimetype": "text/x-python",
   "name": "python",
   "nbconvert_exporter": "python",
   "pygments_lexer": "ipython3",
   "version": "3.6.3"
  }
 },
 "nbformat": 4,
 "nbformat_minor": 2
}
